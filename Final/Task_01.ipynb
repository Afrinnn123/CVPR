{
  "nbformat": 4,
  "nbformat_minor": 0,
  "metadata": {
    "colab": {
      "provenance": [],
      "authorship_tag": "ABX9TyMi2KR9O0WUKw/QWtLUxT+X",
      "include_colab_link": true
    },
    "kernelspec": {
      "name": "python3",
      "display_name": "Python 3"
    },
    "language_info": {
      "name": "python"
    }
  },
  "cells": [
    {
      "cell_type": "markdown",
      "metadata": {
        "id": "view-in-github",
        "colab_type": "text"
      },
      "source": [
        "<a href=\"https://colab.research.google.com/github/Afrinnn123/CVPR/blob/main/Final/Task_01.ipynb\" target=\"_parent\"><img src=\"https://colab.research.google.com/assets/colab-badge.svg\" alt=\"Open In Colab\"/></a>"
      ]
    },
    {
      "cell_type": "code",
      "source": [
        "import tensorflow as tf\n",
        "from tensorflow import keras\n",
        "from tensorflow.keras import layers\n",
        "from tensorflow.keras.datasets import cifar10"
      ],
      "metadata": {
        "id": "886KWq2TiyQr"
      },
      "execution_count": 1,
      "outputs": []
    },
    {
      "cell_type": "code",
      "source": [
        "import os\n",
        "import numpy as np\n",
        "import matplotlib.pyplot as plt"
      ],
      "metadata": {
        "id": "VoxYv_Lmi8dA"
      },
      "execution_count": 2,
      "outputs": []
    },
    {
      "cell_type": "code",
      "source": [
        "os.environ['TFF_CPP_MIN_LOG_LEVEL'] = '2'"
      ],
      "metadata": {
        "id": "fnLLKSu8jAFh"
      },
      "execution_count": 3,
      "outputs": []
    },
    {
      "cell_type": "code",
      "source": [
        "%matplotlib inline"
      ],
      "metadata": {
        "id": "_rae3xBdjExz"
      },
      "execution_count": 4,
      "outputs": []
    },
    {
      "cell_type": "code",
      "source": [
        "(X_train, Y_train), (X_test, Y_test) = cifar10.load_data()"
      ],
      "metadata": {
        "id": "WTYCfivgjIJL"
      },
      "execution_count": 5,
      "outputs": []
    },
    {
      "cell_type": "code",
      "source": [
        "class_names = ['airplane', 'automobile', 'bird', 'cat', 'deer', 'dog', 'frog', 'horse', 'ship', 'truck']\n"
      ],
      "metadata": {
        "id": "_t0BUxJejbrq"
      },
      "execution_count": 6,
      "outputs": []
    },
    {
      "cell_type": "code",
      "source": [
        "optimizers = ['adam', 'sgd', 'rmsprop']\n",
        "loss_functions = ['sparse_categorical_crossentropy', 'categorical_crossentropy']"
      ],
      "metadata": {
        "id": "sGkz58oLjc_S"
      },
      "execution_count": 7,
      "outputs": []
    },
    {
      "cell_type": "code",
      "source": [
        "def train_model(optimizer_name, loss_type):\n",
        "    # Build the model\n",
        "    model = keras.Sequential([\n",
        "        keras.Input(shape=(32,32,3)),\n",
        "        layers.Conv2D(filters=32, kernel_size=(5,5), activation='relu'),\n",
        "        layers.MaxPooling2D(pool_size=(2,2)),\n",
        "        layers.Conv2D(filters=64, kernel_size=(3,3), activation='relu'),\n",
        "        layers.MaxPooling2D(pool_size=(2,2)),\n",
        "        layers.Conv2D(filters=64, kernel_size=(3,3), activation='relu'),\n",
        "        layers.MaxPooling2D(pool_size=(2,2)),\n",
        "        layers.Flatten(),\n",
        "        layers.Dense(64, activation='relu'),\n",
        "        layers.Dense(10, activation='softmax')\n",
        "    ])\n",
        "\n",
        "    model.compile(\n",
        "        optimizer=optimizer_name,\n",
        "        loss=loss_type,\n",
        "        metrics=['accuracy']\n",
        "    )\n",
        "    h = model.fit(x=X_train, y=Y_train, epochs=5, validation_split=0.2, batch_size=32)\n",
        "    plt.figure(figsize=(15,5))\n",
        "    plt.subplot(1,2,1)\n",
        "    plt.plot(h.history['accuracy'], 'o-', label='train accuracy')\n",
        "    plt.plot(h.history['val_accuracy'], 'o-', label='validation accuracy')\n",
        "    plt.xlabel('Epoch')\n",
        "    plt.ylabel('Accuracy')\n",
        "    plt.grid(True)\n",
        "    plt.legend(loc='lower right')\n",
        "\n",
        "    plt.subplot(1,2,2)\n",
        "    plt.plot(h.history['loss'], 'o-', label='train loss')\n",
        "    plt.plot(h.history['val_loss'], 'o-', label='validation loss')\n",
        "    plt.xlabel('Epoch')\n",
        "    plt.ylabel('Loss')\n",
        "    plt.grid(True)\n",
        "    plt.legend(loc='upper right')\n",
        "    plt.show()\n"
      ],
      "metadata": {
        "id": "9QgfEC26j8-7"
      },
      "execution_count": 8,
      "outputs": []
    }
  ]
}